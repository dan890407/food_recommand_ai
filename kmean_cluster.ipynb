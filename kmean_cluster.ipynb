{
 "cells": [
  {
   "attachments": {},
   "cell_type": "markdown",
   "metadata": {},
   "source": [
    "# 去除重複評論"
   ]
  },
  {
   "cell_type": "code",
   "execution_count": 54,
   "metadata": {},
   "outputs": [],
   "source": [
    "import json\n",
    "with open(\"final_comments.json\",\"r\",encoding=\"utf-8\") as f:\n",
    "    comments = json.load(f)\n",
    "comments_set = {}\n",
    "for key in comments.keys():\n",
    "    c_set = set([comment[1] for comment in comments[key]])\n",
    "    if(len(c_set) > 0):\n",
    "        comments_set[key] = list(c_set)\n",
    "\n",
    "with open(\"comments_set.json\",\"w\",encoding=\"utf-8\") as f:\n",
    "    json_comments = json.dumps(comments_set, indent=4, ensure_ascii=False)\n",
    "    f.write(json_comments)\n"
   ]
  },
  {
   "attachments": {},
   "cell_type": "markdown",
   "metadata": {},
   "source": [
    "# 讀取檔案"
   ]
  },
  {
   "cell_type": "code",
   "execution_count": 2,
   "metadata": {},
   "outputs": [],
   "source": [
    "import json\n",
    "with open(\"comments_set.json\",\"r\",encoding=\"utf-8\") as f:\n",
    "    comments = json.load(f)"
   ]
  },
  {
   "attachments": {},
   "cell_type": "markdown",
   "metadata": {},
   "source": [
    "# 讀取模型"
   ]
  },
  {
   "cell_type": "code",
   "execution_count": 1,
   "metadata": {},
   "outputs": [
    {
     "name": "stderr",
     "output_type": "stream",
     "text": [
      "c:\\Users\\hands\\AppData\\Local\\Programs\\Python\\Python310\\lib\\site-packages\\tqdm\\auto.py:22: TqdmWarning: IProgress not found. Please update jupyter and ipywidgets. See https://ipywidgets.readthedocs.io/en/stable/user_install.html\n",
      "  from .autonotebook import tqdm as notebook_tqdm\n",
      "NOTE: Redirects are currently not supported in Windows or MacOs.\n"
     ]
    }
   ],
   "source": [
    "from sentence_transformers import SentenceTransformer\n",
    "model = SentenceTransformer(\"sentence-transformers/distiluse-base-multilingual-cased-v2\")"
   ]
  },
  {
   "attachments": {},
   "cell_type": "markdown",
   "metadata": {},
   "source": [
    "# 將評論轉為向量並分群"
   ]
  },
  {
   "cell_type": "code",
   "execution_count": null,
   "metadata": {},
   "outputs": [],
   "source": [
    "from sklearn import cluster, datasets\n",
    "cluster_comments = {}\n",
    "for key in comments.keys():\n",
    "    embeddings = model.encode(comments[key])\n",
    "    result = cluster.KMeans(n_clusters = 5).fit(embeddings)\n",
    "\n",
    "    cluster_comments[key] = {}\n",
    "    for comment, label in zip(comments[key], result.labels_):\n",
    "        cluster_comments[key][str(label)] = [] if(str(label) not in cluster_comments[key]) else cluster_comments[key][str(label)] + [comment]"
   ]
  },
  {
   "attachments": {},
   "cell_type": "markdown",
   "metadata": {},
   "source": [
    "# 儲存檔案"
   ]
  },
  {
   "cell_type": "code",
   "execution_count": null,
   "metadata": {},
   "outputs": [],
   "source": [
    "with open(\"comments_cluser.json\",\"w\",encoding=\"utf-8\") as f:\n",
    "    json_comments = json.dumps(cluster_comments, indent=4, ensure_ascii=False)\n",
    "    f.write(json_comments)"
   ]
  }
 ],
 "metadata": {
  "kernelspec": {
   "display_name": "Python 3",
   "language": "python",
   "name": "python3"
  },
  "language_info": {
   "codemirror_mode": {
    "name": "ipython",
    "version": 3
   },
   "file_extension": ".py",
   "mimetype": "text/x-python",
   "name": "python",
   "nbconvert_exporter": "python",
   "pygments_lexer": "ipython3",
   "version": "3.10.7 (tags/v3.10.7:6cc6b13, Sep  5 2022, 14:08:36) [MSC v.1933 64 bit (AMD64)]"
  },
  "orig_nbformat": 4,
  "vscode": {
   "interpreter": {
    "hash": "cb793fe90dc62a0bae5b77022e3c70223d1bb3a2288c68e8466e5fd55ba34e61"
   }
  }
 },
 "nbformat": 4,
 "nbformat_minor": 2
}
